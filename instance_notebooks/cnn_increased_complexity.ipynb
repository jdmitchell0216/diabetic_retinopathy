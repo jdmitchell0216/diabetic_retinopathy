{
 "cells": [
  {
   "cell_type": "markdown",
   "metadata": {},
   "source": [
    "# Improved simple CNN"
   ]
  },
  {
   "cell_type": "code",
   "execution_count": 9,
   "metadata": {},
   "outputs": [],
   "source": [
    "import numpy as np, pandas as pd, matplotlib.pyplot as plt\n",
    "import scipy.misc as smp\n",
    "import matplotlib.pyplot as plt\n",
    "import numpy as np\n",
    "import os, shutil\n",
    "from sklearn.model_selection import train_test_split\n",
    "from sklearn.metrics import f1_score, precision_score, recall_score, classification_report, confusion_matrix\n",
    "from keras import models, optimizers, Sequential, regularizers, layers\n",
    "from keras.models import load_model, model_from_json\n",
    "from keras.preprocessing.image import ImageDataGenerator, array_to_img, img_to_array, load_img\n",
    "from keras.utils import to_categorical\n",
    "from keras.applications import VGG16, VGG19\n",
    "from keras.callbacks import ModelCheckpoint, LearningRateScheduler, TensorBoard, EarlyStopping\n",
    "from keras.layers import Flatten, Dropout, Reshape, Dense, GlobalAveragePooling2D\n",
    "from keras.layers.convolutional import Conv2D, MaxPooling2D\n",
    "import itertools\n",
    "\n",
    "np.random.seed(123)"
   ]
  },
  {
   "cell_type": "code",
   "execution_count": 2,
   "metadata": {},
   "outputs": [],
   "source": [
    "directory = 'data/train_images/'"
   ]
  },
  {
   "cell_type": "code",
   "execution_count": 3,
   "metadata": {},
   "outputs": [
    {
     "name": "stdout",
     "output_type": "stream",
     "text": [
      "Found 3662 images belonging to 5 classes.\n"
     ]
    }
   ],
   "source": [
    "data_all = ImageDataGenerator(rescale=1./255).flow_from_directory( \n",
    "        directory, \n",
    "        target_size=(224, 224), \n",
    "        batch_size = 3662, \n",
    "        seed = 123)"
   ]
  },
  {
   "cell_type": "markdown",
   "metadata": {},
   "source": [
    "### Running with the same (bad) data setup as the baseline cnn for comparison"
   ]
  },
  {
   "cell_type": "code",
   "execution_count": 4,
   "metadata": {},
   "outputs": [],
   "source": [
    "images, labels = next(data_all)"
   ]
  },
  {
   "cell_type": "code",
   "execution_count": 5,
   "metadata": {},
   "outputs": [],
   "source": [
    "X_model, X_test, y_model, y_test = train_test_split(images, labels, test_size=0.20, random_state=123, stratify = labels)"
   ]
  },
  {
   "cell_type": "code",
   "execution_count": 6,
   "metadata": {},
   "outputs": [],
   "source": [
    "X_train, X_val, y_train, y_val = train_test_split(X_model, y_model, test_size=0.20, random_state=123, stratify = y_model)"
   ]
  },
  {
   "cell_type": "markdown",
   "metadata": {},
   "source": [
    "### The baseline CNN structure can be seen in the cell below"
   ]
  },
  {
   "cell_type": "code",
   "execution_count": null,
   "metadata": {},
   "outputs": [],
   "source": [
    "# baseline = models.Sequential()\n",
    "# baseline.add(layers.Conv2D(224, (3, 3), activation='relu', input_shape=(224,224,3)))\n",
    "# baseline.add(layers.MaxPooling2D((2, 2)))\n",
    "# baseline.add(layers.Conv2D(112, (3, 3), activation='relu'))\n",
    "# baseline.add(layers.MaxPooling2D((2, 2)))\n",
    "# baseline.add(layers.Flatten())\n",
    "# baseline.add(layers.Dropout(0.5))\n",
    "# baseline.add(layers.Dense(56, activation='relu'))\n",
    "# baseline.add(layers.Dense(5, activation='softmax'))\n",
    "\n",
    "# baseline.compile(loss='categorical_crossentropy',\n",
    "#               optimizer=\"sgd\",\n",
    "#               metrics=['acc'])"
   ]
  },
  {
   "cell_type": "code",
   "execution_count": 7,
   "metadata": {},
   "outputs": [
    {
     "name": "stdout",
     "output_type": "stream",
     "text": [
      "WARNING:tensorflow:From /opt/conda/lib/python3.7/site-packages/tensorflow/python/framework/op_def_library.py:263: colocate_with (from tensorflow.python.framework.ops) is deprecated and will be removed in a future version.\n",
      "Instructions for updating:\n",
      "Colocations handled automatically by placer.\n",
      "WARNING:tensorflow:From /opt/conda/lib/python3.7/site-packages/keras/backend/tensorflow_backend.py:3445: calling dropout (from tensorflow.python.ops.nn_ops) with keep_prob is deprecated and will be removed in a future version.\n",
      "Instructions for updating:\n",
      "Please use `rate` instead of `keep_prob`. Rate should be set to `rate = 1 - keep_prob`.\n"
     ]
    }
   ],
   "source": [
    "cnn = models.Sequential()\n",
    "cnn.add(layers.Conv2D(224, (3, 3), activation='relu', input_shape=(224,224,3)))\n",
    "cnn.add(layers.MaxPooling2D((2, 2)))\n",
    "cnn.add(layers.Conv2D(112, (3, 3), activation='relu'))\n",
    "cnn.add(layers.MaxPooling2D((2, 2)))\n",
    "cnn.add(layers.Conv2D(56, (3, 3), activation='relu'))\n",
    "cnn.add(layers.MaxPooling2D((2, 2)))\n",
    "cnn.add(layers.Flatten())\n",
    "cnn.add(layers.Dense(300, activation='relu'))\n",
    "cnn.add(layers.Dropout(0.3))\n",
    "cnn.add(layers.Dense(150, activation='relu'))\n",
    "cnn.add(layers.Dense(5, activation='softmax'))\n",
    "\n",
    "cnn.compile(loss='categorical_crossentropy',\n",
    "              optimizer=\"sgd\",\n",
    "              metrics=['acc'])"
   ]
  },
  {
   "cell_type": "code",
   "execution_count": 10,
   "metadata": {},
   "outputs": [],
   "source": [
    "checkpoint = ModelCheckpoint(\"cnn_increased_complexity.h5\", monitor='val_acc', verbose=1, save_best_only=True, save_weights_only=False, mode='auto', period=1)\n",
    "early = EarlyStopping(monitor='val_acc', min_delta=0, patience=10, verbose=1, mode='auto')\n"
   ]
  },
  {
   "cell_type": "code",
   "execution_count": 11,
   "metadata": {},
   "outputs": [
    {
     "data": {
      "text/plain": [
       "2343"
      ]
     },
     "execution_count": 11,
     "metadata": {},
     "output_type": "execute_result"
    }
   ],
   "source": [
    "len(X_train)"
   ]
  },
  {
   "cell_type": "code",
   "execution_count": 13,
   "metadata": {
    "scrolled": false
   },
   "outputs": [
    {
     "name": "stdout",
     "output_type": "stream",
     "text": [
      "WARNING:tensorflow:From /opt/conda/lib/python3.7/site-packages/tensorflow/python/ops/math_ops.py:3066: to_int32 (from tensorflow.python.ops.math_ops) is deprecated and will be removed in a future version.\n",
      "Instructions for updating:\n",
      "Use tf.cast instead.\n",
      "Train on 2343 samples, validate on 586 samples\n",
      "Epoch 1/50\n",
      "2343/2343 [==============================] - 641s 274ms/step - loss: 1.3430 - acc: 0.4836 - val_loss: 1.1938 - val_acc: 0.5956\n",
      "\n",
      "Epoch 00001: val_acc improved from -inf to 0.59556, saving model to cnn_increased_complexity.h5\n",
      "Epoch 2/50\n",
      "2343/2343 [==============================] - 637s 272ms/step - loss: 1.1706 - acc: 0.5412 - val_loss: 1.1455 - val_acc: 0.4932\n",
      "\n",
      "Epoch 00002: val_acc did not improve from 0.59556\n",
      "Epoch 3/50\n",
      "2343/2343 [==============================] - 634s 270ms/step - loss: 1.0681 - acc: 0.5984 - val_loss: 0.9558 - val_acc: 0.6621\n",
      "\n",
      "Epoch 00003: val_acc improved from 0.59556 to 0.66212, saving model to cnn_increased_complexity.h5\n",
      "Epoch 4/50\n",
      "2343/2343 [==============================] - 633s 270ms/step - loss: 0.9037 - acc: 0.6756 - val_loss: 0.9156 - val_acc: 0.6775\n",
      "\n",
      "Epoch 00007: val_acc did not improve from 0.68942\n",
      "Epoch 8/50\n",
      "2343/2343 [==============================] - 634s 271ms/step - loss: 0.9091 - acc: 0.6679 - val_loss: 0.8776 - val_acc: 0.6843\n",
      "\n",
      "Epoch 00008: val_acc did not improve from 0.68942\n",
      "Epoch 9/50\n",
      "2343/2343 [==============================] - 632s 270ms/step - loss: 0.8632 - acc: 0.6914 - val_loss: 1.0213 - val_acc: 0.6229\n",
      "\n",
      "Epoch 00009: val_acc did not improve from 0.68942\n",
      "Epoch 10/50\n",
      "2343/2343 [==============================] - 637s 272ms/step - loss: 0.8854 - acc: 0.6773 - val_loss: 0.8717 - val_acc: 0.6741\n",
      "\n",
      "Epoch 00010: val_acc did not improve from 0.68942\n",
      "Epoch 11/50\n",
      "2343/2343 [==============================] - 634s 271ms/step - loss: 0.8630 - acc: 0.6786 - val_loss: 0.8663 - val_acc: 0.7065\n",
      "\n",
      "Epoch 00011: val_acc improved from 0.68942 to 0.70648, saving model to cnn_increased_complexity.h5\n",
      "Epoch 12/50\n",
      "2343/2343 [==============================] - 633s 270ms/step - loss: 0.8452 - acc: 0.6876 - val_loss: 0.8743 - val_acc: 0.6621\n",
      "\n",
      "Epoch 00012: val_acc did not improve from 0.70648\n",
      "Epoch 13/50\n",
      "2343/2343 [==============================] - 634s 271ms/step - loss: 0.8383 - acc: 0.6991 - val_loss: 0.8310 - val_acc: 0.6997\n",
      "\n",
      "Epoch 00013: val_acc did not improve from 0.70648\n",
      "Epoch 14/50\n",
      "2343/2343 [==============================] - 632s 270ms/step - loss: 0.8265 - acc: 0.7008 - val_loss: 0.8737 - val_acc: 0.6706\n",
      "\n",
      "Epoch 00014: val_acc did not improve from 0.70648\n",
      "Epoch 15/50\n",
      "2343/2343 [==============================] - 637s 272ms/step - loss: 0.8267 - acc: 0.6983 - val_loss: 0.8153 - val_acc: 0.7133\n",
      "\n",
      "Epoch 00015: val_acc improved from 0.70648 to 0.71331, saving model to cnn_increased_complexity.h5\n",
      "Epoch 16/50\n",
      "2343/2343 [==============================] - 640s 273ms/step - loss: 0.8383 - acc: 0.6897 - val_loss: 0.8412 - val_acc: 0.6655\n",
      "\n",
      "Epoch 00016: val_acc did not improve from 0.71331\n",
      "Epoch 17/50\n",
      "2343/2343 [==============================] - 641s 274ms/step - loss: 0.8144 - acc: 0.7042 - val_loss: 0.8017 - val_acc: 0.7150\n",
      "\n",
      "Epoch 00017: val_acc improved from 0.71331 to 0.71502, saving model to cnn_increased_complexity.h5\n",
      "Epoch 18/50\n",
      "2343/2343 [==============================] - 635s 271ms/step - loss: 0.8135 - acc: 0.6970 - val_loss: 0.8151 - val_acc: 0.7201\n",
      "\n",
      "Epoch 00018: val_acc improved from 0.71502 to 0.72014, saving model to cnn_increased_complexity.h5\n",
      "Epoch 19/50\n",
      "2343/2343 [==============================] - 634s 271ms/step - loss: 0.8018 - acc: 0.7106 - val_loss: 0.7899 - val_acc: 0.7133\n",
      "\n",
      "Epoch 00019: val_acc did not improve from 0.72014\n",
      "Epoch 20/50\n",
      "2343/2343 [==============================] - 635s 271ms/step - loss: 0.7930 - acc: 0.7136 - val_loss: 0.7952 - val_acc: 0.7133\n",
      "\n",
      "Epoch 00020: val_acc did not improve from 0.72014\n",
      "Epoch 21/50\n",
      "2343/2343 [==============================] - 635s 271ms/step - loss: 0.7876 - acc: 0.7072 - val_loss: 0.8157 - val_acc: 0.7150\n",
      "\n",
      "Epoch 00021: val_acc did not improve from 0.72014\n",
      "Epoch 22/50\n",
      "2343/2343 [==============================] - 638s 272ms/step - loss: 0.7922 - acc: 0.7004 - val_loss: 0.7870 - val_acc: 0.7167\n",
      "\n",
      "Epoch 00022: val_acc did not improve from 0.72014\n",
      "Epoch 23/50\n",
      "2343/2343 [==============================] - 638s 272ms/step - loss: 0.7875 - acc: 0.7119 - val_loss: 0.7987 - val_acc: 0.7014\n",
      "\n",
      "Epoch 00023: val_acc did not improve from 0.72014\n",
      "Epoch 24/50\n",
      "2343/2343 [==============================] - 637s 272ms/step - loss: 0.7737 - acc: 0.7273 - val_loss: 0.7899 - val_acc: 0.7218\n",
      "\n",
      "Epoch 00024: val_acc improved from 0.72014 to 0.72184, saving model to cnn_increased_complexity.h5\n",
      "Epoch 25/50\n",
      "2343/2343 [==============================] - 635s 271ms/step - loss: 0.7782 - acc: 0.7059 - val_loss: 0.7991 - val_acc: 0.6928\n",
      "\n",
      "Epoch 00025: val_acc did not improve from 0.72184\n",
      "Epoch 26/50\n",
      "2343/2343 [==============================] - 636s 271ms/step - loss: 0.7711 - acc: 0.7183 - val_loss: 0.8010 - val_acc: 0.7150\n",
      "\n",
      "Epoch 00026: val_acc did not improve from 0.72184\n",
      "Epoch 27/50\n",
      "2343/2343 [==============================] - 635s 271ms/step - loss: 0.7621 - acc: 0.7192 - val_loss: 0.7789 - val_acc: 0.7167\n",
      "\n",
      "Epoch 00027: val_acc did not improve from 0.72184\n",
      "Epoch 28/50\n",
      "2343/2343 [==============================] - 635s 271ms/step - loss: 0.7618 - acc: 0.7187 - val_loss: 0.7877 - val_acc: 0.7253\n",
      "\n",
      "Epoch 00028: val_acc improved from 0.72184 to 0.72526, saving model to cnn_increased_complexity.h5\n",
      "Epoch 29/50\n",
      "2343/2343 [==============================] - 636s 271ms/step - loss: 0.7579 - acc: 0.7217 - val_loss: 0.7593 - val_acc: 0.7338\n",
      "\n",
      "Epoch 00029: val_acc improved from 0.72526 to 0.73379, saving model to cnn_increased_complexity.h5\n",
      "Epoch 30/50\n",
      "2343/2343 [==============================] - 634s 271ms/step - loss: 0.7560 - acc: 0.7200 - val_loss: 0.7829 - val_acc: 0.7235\n",
      "\n",
      "Epoch 00030: val_acc did not improve from 0.73379\n",
      "Epoch 31/50\n",
      "2343/2343 [==============================] - 634s 270ms/step - loss: 0.7605 - acc: 0.7204 - val_loss: 0.7900 - val_acc: 0.7150\n",
      "\n",
      "Epoch 00031: val_acc did not improve from 0.73379\n",
      "Epoch 32/50\n",
      "2343/2343 [==============================] - 633s 270ms/step - loss: 0.7559 - acc: 0.7226 - val_loss: 0.7777 - val_acc: 0.7304\n",
      "\n",
      "Epoch 00032: val_acc did not improve from 0.73379\n",
      "Epoch 33/50\n",
      "2343/2343 [==============================] - 635s 271ms/step - loss: 0.7379 - acc: 0.7294 - val_loss: 0.7486 - val_acc: 0.7389\n",
      "\n",
      "Epoch 00033: val_acc improved from 0.73379 to 0.73891, saving model to cnn_increased_complexity.h5\n",
      "Epoch 34/50\n",
      "2343/2343 [==============================] - 634s 271ms/step - loss: 0.7431 - acc: 0.7273 - val_loss: 0.7815 - val_acc: 0.7218\n",
      "\n",
      "Epoch 00034: val_acc did not improve from 0.73891\n",
      "Epoch 35/50\n",
      "2343/2343 [==============================] - 634s 270ms/step - loss: 0.7431 - acc: 0.7286 - val_loss: 0.7518 - val_acc: 0.7389\n",
      "\n",
      "Epoch 00035: val_acc did not improve from 0.73891\n",
      "Epoch 36/50\n",
      "2343/2343 [==============================] - 632s 270ms/step - loss: 0.7436 - acc: 0.7243 - val_loss: 0.7599 - val_acc: 0.7184\n",
      "\n",
      "Epoch 00036: val_acc did not improve from 0.73891\n",
      "Epoch 37/50\n",
      "2343/2343 [==============================] - 636s 271ms/step - loss: 0.7368 - acc: 0.7277 - val_loss: 0.8026 - val_acc: 0.6997\n",
      "\n",
      "Epoch 00037: val_acc did not improve from 0.73891\n",
      "Epoch 38/50\n",
      "2343/2343 [==============================] - 635s 271ms/step - loss: 0.7385 - acc: 0.7294 - val_loss: 0.7663 - val_acc: 0.7287\n",
      "\n",
      "Epoch 00038: val_acc did not improve from 0.73891\n",
      "Epoch 39/50\n",
      "2343/2343 [==============================] - 634s 271ms/step - loss: 0.7331 - acc: 0.7345 - val_loss: 0.7406 - val_acc: 0.7423\n",
      "\n",
      "Epoch 00039: val_acc improved from 0.73891 to 0.74232, saving model to cnn_increased_complexity.h5\n",
      "Epoch 40/50\n",
      "2343/2343 [==============================] - 636s 272ms/step - loss: 0.7295 - acc: 0.7401 - val_loss: 0.7416 - val_acc: 0.7372\n",
      "\n",
      "Epoch 00040: val_acc did not improve from 0.74232\n",
      "Epoch 41/50\n",
      "2343/2343 [==============================] - 633s 270ms/step - loss: 0.7233 - acc: 0.7328 - val_loss: 0.7569 - val_acc: 0.7287\n",
      "\n",
      "Epoch 00041: val_acc did not improve from 0.74232\n",
      "Epoch 42/50\n",
      "2343/2343 [==============================] - 631s 269ms/step - loss: 0.7213 - acc: 0.7354 - val_loss: 0.7523 - val_acc: 0.7235\n",
      "\n",
      "Epoch 00042: val_acc did not improve from 0.74232\n",
      "Epoch 43/50\n"
     ]
    },
    {
     "name": "stdout",
     "output_type": "stream",
     "text": [
      "2343/2343 [==============================] - 634s 271ms/step - loss: 0.7223 - acc: 0.7328 - val_loss: 0.7613 - val_acc: 0.7235\n",
      "\n",
      "Epoch 00043: val_acc did not improve from 0.74232\n",
      "Epoch 44/50\n",
      "2343/2343 [==============================] - 634s 271ms/step - loss: 0.7187 - acc: 0.7332 - val_loss: 0.7395 - val_acc: 0.7338\n",
      "\n",
      "Epoch 00044: val_acc did not improve from 0.74232\n",
      "Epoch 45/50\n",
      "2343/2343 [==============================] - 636s 271ms/step - loss: 0.7252 - acc: 0.7354 - val_loss: 0.7365 - val_acc: 0.7491\n",
      "\n",
      "Epoch 00045: val_acc improved from 0.74232 to 0.74915, saving model to cnn_increased_complexity.h5\n",
      "Epoch 46/50\n",
      "2343/2343 [==============================] - 634s 270ms/step - loss: 0.7153 - acc: 0.7350 - val_loss: 0.7550 - val_acc: 0.7270\n",
      "\n",
      "Epoch 00046: val_acc did not improve from 0.74915\n",
      "Epoch 47/50\n",
      "2343/2343 [==============================] - 633s 270ms/step - loss: 0.7103 - acc: 0.7362 - val_loss: 0.7622 - val_acc: 0.7457\n",
      "\n",
      "Epoch 00047: val_acc did not improve from 0.74915\n",
      "Epoch 48/50\n",
      "2343/2343 [==============================] - 636s 271ms/step - loss: 0.7018 - acc: 0.7375 - val_loss: 0.7378 - val_acc: 0.7474\n",
      "\n",
      "Epoch 00048: val_acc did not improve from 0.74915\n",
      "Epoch 49/50\n",
      "2343/2343 [==============================] - 633s 270ms/step - loss: 0.7039 - acc: 0.7358 - val_loss: 0.7821 - val_acc: 0.7065\n",
      "\n",
      "Epoch 00049: val_acc did not improve from 0.74915\n",
      "Epoch 50/50\n",
      "2343/2343 [==============================] - 635s 271ms/step - loss: 0.7037 - acc: 0.7350 - val_loss: 0.7292 - val_acc: 0.7406\n",
      "\n",
      "Epoch 00050: val_acc did not improve from 0.74915\n"
     ]
    }
   ],
   "source": [
    "cnn_hist = cnn.fit(X_train,\n",
    "                y_train,\n",
    "                epochs=50,\n",
    "                batch_size=64,\n",
    "                validation_data=(X_val, y_val),\n",
    "                callbacks=[early, checkpoint])"
   ]
  },
  {
   "cell_type": "code",
   "execution_count": null,
   "metadata": {},
   "outputs": [],
   "source": [
    "2+2"
   ]
  },
  {
   "cell_type": "code",
   "execution_count": null,
   "metadata": {},
   "outputs": [],
   "source": []
  },
  {
   "cell_type": "code",
   "execution_count": null,
   "metadata": {},
   "outputs": [],
   "source": []
  }
 ],
 "metadata": {
  "kernelspec": {
   "display_name": "Python 3",
   "language": "python",
   "name": "python3"
  },
  "language_info": {
   "codemirror_mode": {
    "name": "ipython",
    "version": 3
   },
   "file_extension": ".py",
   "mimetype": "text/x-python",
   "name": "python",
   "nbconvert_exporter": "python",
   "pygments_lexer": "ipython3",
   "version": "3.7.2"
  },
  "varInspector": {
   "cols": {
    "lenName": 16,
    "lenType": 16,
    "lenVar": 40
   },
   "kernels_config": {
    "python": {
     "delete_cmd_postfix": "",
     "delete_cmd_prefix": "del ",
     "library": "var_list.py",
     "varRefreshCmd": "print(var_dic_list())"
    },
    "r": {
     "delete_cmd_postfix": ") ",
     "delete_cmd_prefix": "rm(",
     "library": "var_list.r",
     "varRefreshCmd": "cat(var_dic_list()) "
    }
   },
   "types_to_exclude": [
    "module",
    "function",
    "builtin_function_or_method",
    "instance",
    "_Feature"
   ],
   "window_display": false
  }
 },
 "nbformat": 4,
 "nbformat_minor": 2
}
