{
 "cells": [
  {
   "cell_type": "markdown",
   "metadata": {},
   "source": [
    "Classify 1-4 Scale Separately"
   ]
  },
  {
   "cell_type": "code",
   "execution_count": 1,
   "metadata": {},
   "outputs": [
    {
     "name": "stderr",
     "output_type": "stream",
     "text": [
      "Using TensorFlow backend.\n"
     ]
    }
   ],
   "source": [
    "import numpy\n",
    "import pandas\n",
    "from keras.models import Sequential\n",
    "from keras.layers import Dense, Flatten, Dropout, Reshape, Dense, GlobalAveragePooling2D\n",
    "from keras.wrappers.scikit_learn import KerasRegressor\n",
    "from sklearn.model_selection import cross_val_score, KFold, train_test_split\n",
    "from sklearn.preprocessing import StandardScaler\n",
    "from sklearn.pipeline import Pipeline\n",
    "\n",
    "import matplotlib.pyplot as plt\n",
    "from sklearn.metrics import f1_score, precision_score, recall_score, classification_report, confusion_matrix\n",
    "from keras import models, optimizers, Sequential, regularizers, layers\n",
    "from keras.models import load_model, model_from_json\n",
    "from keras.preprocessing.image import ImageDataGenerator, array_to_img, img_to_array, load_img\n",
    "from keras.utils import to_categorical\n",
    "from keras.callbacks import ModelCheckpoint, LearningRateScheduler, TensorBoard, EarlyStopping\n",
    "from keras.layers.convolutional import Conv2D, MaxPooling2D\n",
    "import itertools\n",
    "\n",
    "np.random.seed(123)"
   ]
  },
  {
   "cell_type": "code",
   "execution_count": 4,
   "metadata": {},
   "outputs": [
    {
     "data": {
      "text/plain": [
       "'/Users/justinmitchell/Desktop/python_files/data_science_practice/diabetic_retinopathy'"
      ]
     },
     "execution_count": 4,
     "metadata": {},
     "output_type": "execute_result"
    }
   ],
   "source": [
    "pwd"
   ]
  },
  {
   "cell_type": "code",
   "execution_count": 7,
   "metadata": {},
   "outputs": [
    {
     "name": "stdout",
     "output_type": "stream",
     "text": [
      "Found 1857 images belonging to 4 classes.\n"
     ]
    }
   ],
   "source": [
    "directory = 'train_images/'\n",
    "\n",
    "data_all = ImageDataGenerator(rescale=1./255).flow_from_directory( \n",
    "        directory,\n",
    "        class_mode='sparse',\n",
    "        target_size=(224, 224), \n",
    "        batch_size = 3662, \n",
    "        seed = 123)"
   ]
  },
  {
   "cell_type": "code",
   "execution_count": 8,
   "metadata": {},
   "outputs": [
    {
     "data": {
      "text/plain": [
       "{'1': 0, '2': 1, '3': 2, '4': 3}"
      ]
     },
     "execution_count": 8,
     "metadata": {},
     "output_type": "execute_result"
    }
   ],
   "source": [
    "data_all.class_indices"
   ]
  },
  {
   "cell_type": "code",
   "execution_count": 11,
   "metadata": {},
   "outputs": [],
   "source": [
    "images, labels = next(data_all)"
   ]
  },
  {
   "cell_type": "code",
   "execution_count": 12,
   "metadata": {},
   "outputs": [],
   "source": [
    "X_model, X_test, y_model, y_test = train_test_split(images, labels, test_size=0.20, random_state=123, stratify = labels)"
   ]
  },
  {
   "cell_type": "code",
   "execution_count": 13,
   "metadata": {},
   "outputs": [],
   "source": [
    "X_train, X_val, y_train, y_val = train_test_split(X_model, y_model, test_size=0.20, random_state=123, stratify = y_model)"
   ]
  },
  {
   "cell_type": "code",
   "execution_count": 14,
   "metadata": {},
   "outputs": [],
   "source": [
    "def baseline_model():\n",
    "    '''\n",
    "    This is the build function that will be passed into KerasRegressor. Most of this model is based on\n",
    "    the models in the cnn_increased_complexity notebook, but a mean_squared_error loss function is used and the\n",
    "    final layer in the model is composed of only one neuron.\n",
    "    '''\n",
    "    model = Sequential()\n",
    "    model.add(layers.Conv2D(224, (3, 3), activation='relu', input_shape=(224,224,3)))\n",
    "    model.add(layers.MaxPooling2D((2, 2)))\n",
    "    model.add(layers.Conv2D(112, (3, 3), activation='relu'))\n",
    "    model.add(layers.MaxPooling2D((2, 2)))\n",
    "    model.add(layers.Conv2D(56, (3, 3), activation='relu'))\n",
    "    model.add(layers.MaxPooling2D((2, 2)))\n",
    "    model.add(layers.Flatten())\n",
    "    model.add(layers.Dense(300, activation='relu'))\n",
    "    model.add(layers.Dropout(0.3))\n",
    "    model.add(layers.Dense(150, activation='relu'))\n",
    "    model.add(Dense(1, kernel_initializer='normal'))\n",
    "    # Compile model\n",
    "    model.compile(loss='mean_squared_error', optimizer='adam', metrics=['acc'])\n",
    "    return model"
   ]
  },
  {
   "cell_type": "code",
   "execution_count": 19,
   "metadata": {},
   "outputs": [],
   "source": [
    "estimator = KerasRegressor(build_fn=baseline_model, epochs=100, batch_size=5, verbose=2)"
   ]
  },
  {
   "cell_type": "code",
   "execution_count": null,
   "metadata": {},
   "outputs": [
    {
     "name": "stdout",
     "output_type": "stream",
     "text": [
      "Epoch 1/100\n",
      " - 197s - loss: 1.1928 - acc: 0.4495\n",
      "Epoch 2/100\n",
      " - 194s - loss: 1.0204 - acc: 0.4377\n",
      "Epoch 3/100\n",
      " - 190s - loss: 0.9507 - acc: 0.4865\n",
      "Epoch 4/100\n",
      " - 189s - loss: 1.0114 - acc: 0.4545\n",
      "Epoch 5/100\n",
      " - 190s - loss: 0.9470 - acc: 0.4697\n",
      "Epoch 6/100\n",
      " - 189s - loss: 0.9322 - acc: 0.4781\n",
      "Epoch 7/100\n",
      " - 196s - loss: 0.9701 - acc: 0.4747\n",
      "Epoch 8/100\n",
      " - 192s - loss: 0.9308 - acc: 0.4562\n",
      "Epoch 9/100\n",
      " - 210s - loss: 0.9704 - acc: 0.4865\n",
      "Epoch 10/100\n",
      " - 213s - loss: 0.9218 - acc: 0.4545\n",
      "Epoch 11/100\n",
      " - 219s - loss: 0.9174 - acc: 0.4680\n",
      "Epoch 12/100\n",
      " - 232s - loss: 0.9188 - acc: 0.4680\n",
      "Epoch 13/100\n",
      " - 204s - loss: 0.9191 - acc: 0.5051\n",
      "Epoch 14/100\n"
     ]
    }
   ],
   "source": [
    "seed = 123\n",
    "kfold = KFold(n_splits=2, random_state=seed)\n",
    "results = cross_val_score(estimator, X_train, y_train, cv=kfold)\n",
    "print(\"Results: %.2f (%.2f) MSE\" % (results.mean(), results.std()))"
   ]
  },
  {
   "cell_type": "code",
   "execution_count": null,
   "metadata": {},
   "outputs": [],
   "source": []
  }
 ],
 "metadata": {
  "kernelspec": {
   "display_name": "base",
   "language": "python",
   "name": "base"
  },
  "language_info": {
   "codemirror_mode": {
    "name": "ipython",
    "version": 3
   },
   "file_extension": ".py",
   "mimetype": "text/x-python",
   "name": "python",
   "nbconvert_exporter": "python",
   "pygments_lexer": "ipython3",
   "version": "3.7.1"
  },
  "varInspector": {
   "cols": {
    "lenName": 16,
    "lenType": 16,
    "lenVar": 40
   },
   "kernels_config": {
    "python": {
     "delete_cmd_postfix": "",
     "delete_cmd_prefix": "del ",
     "library": "var_list.py",
     "varRefreshCmd": "print(var_dic_list())"
    },
    "r": {
     "delete_cmd_postfix": ") ",
     "delete_cmd_prefix": "rm(",
     "library": "var_list.r",
     "varRefreshCmd": "cat(var_dic_list()) "
    }
   },
   "types_to_exclude": [
    "module",
    "function",
    "builtin_function_or_method",
    "instance",
    "_Feature"
   ],
   "window_display": false
  }
 },
 "nbformat": 4,
 "nbformat_minor": 2
}
